{
 "cells": [
  {
   "cell_type": "markdown",
   "metadata": {
    "colab_type": "text",
    "id": "0WEZaIcEE-PC"
   },
   "source": [
    "**You may need to install [OpenCV](https://pypi.python.org/pypi/opencv-python) and [scikit-video](http://www.scikit-video.org/stable/).**"
   ]
  },
  {
   "cell_type": "code",
   "execution_count": 4,
   "metadata": {
    "colab": {
     "base_uri": "https://localhost:8080/",
     "height": 79
    },
    "colab_type": "code",
    "id": "a4B5J9U9E-PI",
    "outputId": "b6d9cd08-42b4-490b-dcb1-602051f69994"
   },
   "outputs": [
    {
     "name": "stderr",
     "output_type": "stream",
     "text": [
      "Using TensorFlow backend.\n"
     ]
    },
    {
     "data": {
      "text/html": [
       "<p style=\"color: red;\">\n",
       "The default version of TensorFlow in Colab will soon switch to TensorFlow 2.x.<br>\n",
       "We recommend you <a href=\"https://www.tensorflow.org/guide/migrate\" target=\"_blank\">upgrade</a> now \n",
       "or ensure your notebook will continue to use TensorFlow 1.x via the <code>%tensorflow_version 1.x</code> magic:\n",
       "<a href=\"https://colab.research.google.com/notebooks/tensorflow_version.ipynb\" target=\"_blank\">more info</a>.</p>\n"
      ],
      "text/plain": [
       "<IPython.core.display.HTML object>"
      ]
     },
     "metadata": {
      "tags": []
     },
     "output_type": "display_data"
    }
   ],
   "source": [
    "import keras\n",
    "import numpy as np\n",
    "import io\n",
    "import base64\n",
    "from IPython.display import HTML\n",
    "import skvideo.io\n",
    "import cv2\n",
    "import json\n",
    "\n",
    "from keras.models import Sequential,model_from_json\n",
    "from keras.layers.core import Dense, Flatten\n",
    "from keras.optimizers import sgd\n",
    "from keras.layers import Conv2D, MaxPooling2D, Activation, AveragePooling2D,Reshape,BatchNormalization, Dropout"
   ]
  },
  {
   "cell_type": "markdown",
   "metadata": {
    "colab_type": "text",
    "id": "xh417SvYE-PO"
   },
   "source": [
    "# MiniProject on Deep Reinforcement Learning"
   ]
  },
  {
   "cell_type": "markdown",
   "metadata": {
    "colab_type": "text",
    "id": "EMg9ySjdE-PO"
   },
   "source": [
    "__Notations__: $E_p$ is the expectation under probability $p$. Please justify each of your answer and widely comment your code."
   ]
  },
  {
   "cell_type": "markdown",
   "metadata": {
    "colab_type": "text",
    "id": "n1_i02FjE-PP"
   },
   "source": [
    "# Context"
   ]
  },
  {
   "cell_type": "markdown",
   "metadata": {
    "colab_type": "text",
    "id": "_9uN3UfHE-PR"
   },
   "source": [
    "In a reinforcement learning algorithm, we modelize each step $t$ as an action $a_t$ obtained from a state $s_t$, i.e. $\\{(a_{t},s_{t})_{t\\leq T}\\}$ having the Markov property. We consider a discount factor $\\gamma \\in [0,1]$ that ensures convergence. The goal is to find among all the policies $\\pi$, one that maximizes the expected reward:\n",
    "\n",
    "\\begin{equation*}\n",
    "R(\\pi)=\\sum_{t\\leq T}E_{p^{\\pi}}[\\gamma^t r(s_{t},a_{t})] \\> ,\n",
    "\\end{equation*}\n",
    "\n",
    "where: \n",
    "\\begin{equation*}p^{\\pi}(a_{0},a_{1},s_{1},...,a_{T},s_{T})=p(a_{0})\\prod_{t=1}^{T}\\pi(a_{t}|s_{t})p(s_{t+1}|s_{t},a_{t}) \\> .\n",
    "\\end{equation*}\n",
    "\n",
    "We note the $Q$-function:\n",
    "\n",
    "\\begin{equation*}Q^\\pi(s,a)=E_{p^{\\pi}}[\\sum_{t\\leq T}\\gamma^{t}r(s_{t},a_{t})|s_{0}=s,a_{0}=a] \\> .\n",
    "\\end{equation*}\n",
    "\n",
    "Thus, the optimal Q function is:\n",
    "\\begin{equation*}\n",
    "Q^*(s,a)=\\max_{\\pi}Q^\\pi(s,a) \\> .\n",
    "\\end{equation*}\n",
    "\n",
    "In this project, we will apply the deep reinforcement learning techniques to a simple game: an agent will have to learn from scratch a policy that will permit it maximizing a reward."
   ]
  },
  {
   "cell_type": "markdown",
   "metadata": {
    "colab_type": "text",
    "id": "qkfS-776E-PU"
   },
   "source": [
    "## The environment, the agent and the game"
   ]
  },
  {
   "cell_type": "markdown",
   "metadata": {
    "colab_type": "text",
    "id": "J8Zdr6ZrE-PW"
   },
   "source": [
    "### The environment"
   ]
  },
  {
   "cell_type": "markdown",
   "metadata": {
    "colab_type": "text",
    "id": "u2bcfz7VE-PX"
   },
   "source": [
    "```Environment``` is an abstract class that represents the states, rewards, and actions to obtain the new state."
   ]
  },
  {
   "cell_type": "code",
   "execution_count": 0,
   "metadata": {
    "colab": {},
    "colab_type": "code",
    "id": "oJRRejaQE-PY"
   },
   "outputs": [],
   "source": [
    "class Environment(object):\n",
    "    def __init__(self):\n",
    "        pass\n",
    "\n",
    "    def act(self, act):\n",
    "        \"\"\"\n",
    "        One can act on the environment and obtain its reaction:\n",
    "        - the new state\n",
    "        - the reward of the new state\n",
    "        - should we continue the game?\n",
    "\n",
    "        :return: state, reward, game_over\n",
    "        \"\"\"\n",
    "        pass\n",
    "\n",
    "\n",
    "    def reset(self):\n",
    "        \"\"\"\n",
    "        Reinitialize the environment to a random state and returns\n",
    "        the original state\n",
    "\n",
    "        :return: state\n",
    "        \"\"\"\n",
    "        pass\n",
    "    \n",
    "    def draw(self):\n",
    "        \"\"\"\n",
    "        Visualize in the console or graphically the current state\n",
    "        \"\"\"\n",
    "        pass"
   ]
  },
  {
   "cell_type": "markdown",
   "metadata": {
    "colab_type": "text",
    "id": "5QYNX3dmE-Pb"
   },
   "source": [
    "The method ```act``` allows to act on the environment at a given state $s_t$ (stored internally), via action $a_t$. The method will return the new state $s_{t+1}$, the reward $r(s_{t},a_{t})$ and determines if $t\\leq T$ (*game_over*).\n",
    "\n",
    "The method ```reset``` simply reinitializes the environment to a random state $s_0$.\n",
    "\n",
    "The method ```draw``` displays the current state $s_t$ (this is useful to check the behavior of the Agent).\n",
    "\n",
    "We modelize $s_t$ as a tensor, while $a_t$ is an integer."
   ]
  },
  {
   "cell_type": "markdown",
   "metadata": {
    "colab_type": "text",
    "id": "goHUcFLuE-Pd"
   },
   "source": [
    "### The Agent"
   ]
  },
  {
   "cell_type": "markdown",
   "metadata": {
    "colab_type": "text",
    "id": "QWgdpjn2E-Pe"
   },
   "source": [
    "The goal of the ```Agent``` is to interact with the ```Environment``` by proposing actions $a_t$ obtained from a given state $s_t$ to attempt to maximize its __reward__ $r(s_t,a_t)$. We propose the following abstract class:"
   ]
  },
  {
   "cell_type": "code",
   "execution_count": 0,
   "metadata": {
    "colab": {},
    "colab_type": "code",
    "id": "-bimBx-YE-Pf"
   },
   "outputs": [],
   "source": [
    "class Agent(object):\n",
    "    def __init__(self, epsilon=0.1, n_action=4):\n",
    "        self.epsilon = epsilon\n",
    "        self.n_action = n_action\n",
    "    \n",
    "    def set_epsilon(self,e):\n",
    "        self.epsilon = e\n",
    "\n",
    "    def act(self,s,train=True):\n",
    "        \"\"\" This function should return the next action to do:\n",
    "        an integer between 0 and 4 (not included) with a random exploration of epsilon\"\"\"\n",
    "        if train:\n",
    "            if np.random.rand() <= self.epsilon:\n",
    "                a = np.random.randint(0, self.n_action, size=1)[0]\n",
    "            else:\n",
    "                a = self.learned_act(s)\n",
    "        else: # in some cases, this can improve the performance.. remove it if poor performances\n",
    "            a = self.learned_act(s)\n",
    "\n",
    "        return a\n",
    "\n",
    "    def learned_act(self,s):\n",
    "        \"\"\" Act via the policy of the agent, from a given state s\n",
    "        it proposes an action a\"\"\"\n",
    "        pass\n",
    "\n",
    "    def reinforce(self, s, n_s, a, r, game_over_):\n",
    "        \"\"\" This function is the core of the learning algorithm. \n",
    "        It takes as an input the current state s_, the next state n_s_\n",
    "        the action a_ used to move from s_ to n_s_ and the reward r_.\n",
    "        \n",
    "        Its goal is to learn a policy.\n",
    "        \"\"\"\n",
    "        pass\n",
    "\n",
    "    def save(self):\n",
    "        \"\"\" This function returns basic stats if applicable: the\n",
    "        loss and/or the model\"\"\"\n",
    "        pass\n",
    "\n",
    "    def load(self):\n",
    "        \"\"\" This function allows to restore a model\"\"\"\n",
    "        pass"
   ]
  },
  {
   "cell_type": "markdown",
   "metadata": {
    "colab_type": "text",
    "id": "Bdb3esGqE-Pk"
   },
   "source": [
    "***\n",
    "__Question 1__:\n",
    "Explain the function act. Why is ```epsilon``` essential?"
   ]
  },
  {
   "cell_type": "markdown",
   "metadata": {
    "colab_type": "text",
    "id": "rKdOyhkaE-Pm"
   },
   "source": [
    "\n",
    "The function _act_ takes the current state *s* as input and returns a possible action. \n",
    "\n",
    "- At train time : With a probability $\\epsilon$, the agent chooses an action uniformly at random (exploration of the environment). Otherwise (with a probability $1-\\epsilon$) it will choose the action maximizing the expected cumulative reward from his current state $s$ (greedy choice).\n",
    "\n",
    "- At test time : The agent follows the learnt policy (greedy policy).\n",
    "\n",
    "- $\\epsilon$ models a tradeoff between exploration of the environment and exploitation of the current knowledge. It is essential because at the beginning the agent has a very limited knowledge of the environment, and $\\epsilon$ ensures that it keeps exploring and increasing that knowledge.\n",
    "\n"
   ]
  },
  {
   "cell_type": "markdown",
   "metadata": {
    "colab_type": "text",
    "id": "19PJLlA2E-Pn"
   },
   "source": [
    "***\n",
    "### The Game"
   ]
  },
  {
   "cell_type": "markdown",
   "metadata": {
    "colab_type": "text",
    "id": "38-GPH9NE-Po"
   },
   "source": [
    "The ```Agent``` and the ```Environment``` work in an interlaced way as in the following (take some time to understand this code as it is the core of the project)\n",
    "\n",
    "```python\n",
    "\n",
    "epoch = 300\n",
    "env = Environment()\n",
    "agent = Agent()\n",
    "\n",
    "\n",
    "# Number of won games\n",
    "score = 0\n",
    "loss = 0\n",
    "\n",
    "\n",
    "for e in range(epoch):\n",
    "    # At each epoch, we restart to a fresh game and get the initial state\n",
    "    state = env.reset()\n",
    "    # This assumes that the games will end\n",
    "    game_over = False\n",
    "\n",
    "    win = 0\n",
    "    lose = 0\n",
    "    \n",
    "    while not game_over:\n",
    "        # The agent performs an action\n",
    "        action = agent.act(state)\n",
    "\n",
    "        # Apply an action to the environment, get the next state, the reward\n",
    "        # and if the games end\n",
    "        prev_state = state\n",
    "        state, reward, game_over = env.act(action)\n",
    "\n",
    "        # Update the counters\n",
    "        if reward > 0:\n",
    "            win = win + reward\n",
    "        if reward < 0:\n",
    "            lose = lose -reward\n",
    "\n",
    "        # Apply the reinforcement strategy\n",
    "        loss = agent.reinforce(prev_state, state,  action, reward, game_over)\n",
    "\n",
    "    # Save as a mp4\n",
    "    if e % 10 == 0:\n",
    "        env.draw(e)\n",
    "\n",
    "    # Update stats\n",
    "    score += win-lose\n",
    "\n",
    "    print(\"Epoch {:03d}/{:03d} | Loss {:.4f} | Win/lose count {}/{} ({})\"\n",
    "          .format(e, epoch, loss, win, lose, win-lose))\n",
    "    agent.save()\n",
    "```"
   ]
  },
  {
   "cell_type": "markdown",
   "metadata": {
    "colab_type": "text",
    "id": "6qCCQyvIE-Pp"
   },
   "source": [
    "# The game, *eat cheese*"
   ]
  },
  {
   "cell_type": "markdown",
   "metadata": {
    "colab_type": "text",
    "id": "eRKw1upIE-Pp"
   },
   "source": [
    "A rat runs on an island and tries to eat as much as possible. The island is subdivided into $N\\times N$ cells, in which there are cheese (+0.5) and poisonous cells (-1). The rat has a visibility of 2 cells (thus it can see $5^2$ cells). The rat is given a time $T$ to accumulate as much food as possible. It can perform 4 actions: going up, down, left, right. \n",
    "\n",
    "The goal is to code an agent to solve this task that will learn by trial and error. We propose the following environment:"
   ]
  },
  {
   "cell_type": "code",
   "execution_count": 0,
   "metadata": {
    "colab": {},
    "colab_type": "code",
    "id": "GhFkwz-LE-Pq"
   },
   "outputs": [],
   "source": [
    "class Environment(object):\n",
    "    def __init__(self, grid_size=10, max_time=500, temperature=0.1):\n",
    "        grid_size = grid_size+4\n",
    "        self.grid_size = grid_size\n",
    "        self.max_time = max_time\n",
    "        self.temperature = temperature\n",
    "\n",
    "        #board on which one plays\n",
    "        self.board = np.zeros((grid_size,grid_size))\n",
    "        self.position = np.zeros((grid_size,grid_size))\n",
    "\n",
    "        # coordinate of the cat\n",
    "        self.x = 0\n",
    "        self.y = 1\n",
    "\n",
    "        # self time\n",
    "        self.t = 0\n",
    "\n",
    "        self.scale=16\n",
    "\n",
    "        self.to_draw = np.zeros((max_time+2, grid_size*self.scale, grid_size*self.scale, 3))\n",
    "\n",
    "\n",
    "    def draw(self,e):\n",
    "        skvideo.io.vwrite(str(e) + '.mp4', self.to_draw)\n",
    "\n",
    "    def get_frame(self,t):\n",
    "        b = np.zeros((self.grid_size,self.grid_size,3))+128\n",
    "        b[self.board>0,0] = 256\n",
    "        b[self.board < 0, 2] = 256\n",
    "        b[self.x,self.y,:]=256\n",
    "        b[-2:,:,:]=0\n",
    "        b[:,-2:,:]=0\n",
    "        b[:2,:,:]=0\n",
    "        b[:,:2,:]=0\n",
    "        \n",
    "        b =  cv2.resize(b, None, fx=self.scale, fy=self.scale, interpolation=cv2.INTER_NEAREST)\n",
    "\n",
    "        self.to_draw[t,:,:,:]=b\n",
    "\n",
    "\n",
    "    def act(self, action):\n",
    "        \"\"\"This function returns the new state, reward and decides if the\n",
    "        game ends.\"\"\"\n",
    "\n",
    "        self.get_frame(int(self.t))\n",
    "\n",
    "        self.position = np.zeros((self.grid_size, self.grid_size))\n",
    "\n",
    "        self.position[0:2,:]= -1\n",
    "        self.position[:,0:2] = -1\n",
    "        self.position[-2:, :] = -1\n",
    "        self.position[-2:, :] = -1\n",
    "\n",
    "        self.position[self.x, self.y] = 1\n",
    "        if action == 0:\n",
    "            if self.x == self.grid_size-3:\n",
    "                self.x = self.x-1\n",
    "            else:\n",
    "                self.x = self.x + 1\n",
    "        elif action == 1:\n",
    "            if self.x == 2:\n",
    "                self.x = self.x+1\n",
    "            else:\n",
    "                self.x = self.x-1\n",
    "        elif action == 2:\n",
    "            if self.y == self.grid_size - 3:\n",
    "                self.y = self.y - 1\n",
    "            else:\n",
    "                self.y = self.y + 1\n",
    "        elif action == 3:\n",
    "            if self.y == 2:\n",
    "                self.y = self.y + 1\n",
    "            else:\n",
    "                self.y = self.y - 1\n",
    "        else:\n",
    "            RuntimeError('Error: action not recognized')\n",
    "\n",
    "        self.t = self.t + 1\n",
    "        reward = self.board[self.x, self.y]\n",
    "        self.board[self.x, self.y] = 0\n",
    "        game_over = self.t > self.max_time\n",
    "        state = np.concatenate((self.board.reshape(self.grid_size, self.grid_size,1),\n",
    "                        self.position.reshape(self.grid_size, self.grid_size,1)),axis=2)\n",
    "        state = state[self.x-2:self.x+3,self.y-2:self.y+3,:]\n",
    "\n",
    "        return state, reward, game_over\n",
    "\n",
    "    def reset(self):\n",
    "        \"\"\"This function resets the game and returns the initial state\"\"\"\n",
    "\n",
    "        self.x = np.random.randint(3, self.grid_size-3, size=1)[0]\n",
    "        self.y = np.random.randint(3, self.grid_size-3, size=1)[0]\n",
    "\n",
    "\n",
    "        bonus = 0.5*np.random.binomial(1,self.temperature,size=self.grid_size**2)\n",
    "        bonus = bonus.reshape(self.grid_size,self.grid_size)\n",
    "\n",
    "        malus = -1.0*np.random.binomial(1,self.temperature,size=self.grid_size**2)\n",
    "        malus = malus.reshape(self.grid_size, self.grid_size)\n",
    "\n",
    "        self.to_draw = np.zeros((self.max_time+2, self.grid_size*self.scale, self.grid_size*self.scale, 3))\n",
    "\n",
    "\n",
    "        malus[bonus>0]=0\n",
    "\n",
    "        self.board = bonus + malus\n",
    "\n",
    "        self.position = np.zeros((self.grid_size, self.grid_size))\n",
    "        self.position[0:2,:]= -1\n",
    "        self.position[:,0:2] = -1\n",
    "        self.position[-2:, :] = -1\n",
    "        self.position[-2:, :] = -1\n",
    "        self.board[self.x,self.y] = 0\n",
    "        self.t = 0\n",
    "\n",
    "        state = np.concatenate((\n",
    "                               self.board.reshape(self.grid_size, self.grid_size,1),\n",
    "                        self.position.reshape(self.grid_size, self.grid_size,1)),axis=2)\n",
    "\n",
    "        state = state[self.x - 2:self.x + 3, self.y - 2:self.y + 3, :]\n",
    "        return state"
   ]
  },
  {
   "cell_type": "markdown",
   "metadata": {
    "colab_type": "text",
    "id": "Wb-ZWqubE-Pt"
   },
   "source": [
    "The following elements are important because they correspond to the hyper parameters for this project:"
   ]
  },
  {
   "cell_type": "code",
   "execution_count": 0,
   "metadata": {
    "colab": {},
    "colab_type": "code",
    "id": "caImuf5ZE-Pu"
   },
   "outputs": [],
   "source": [
    "# parameters\n",
    "size = 13\n",
    "T=200\n",
    "temperature=0.3\n",
    "epochs_train= 40 # set small when debugging\n",
    "epochs_test=  30 # set small when debugging\n",
    "\n",
    "# display videos\n",
    "def display_videos(name):\n",
    "    video = io.open(name, 'r+b').read()\n",
    "    encoded = base64.b64encode(video)\n",
    "    return '''<video alt=\"test\" controls>\n",
    "                <source src=\"data:video/mp4;base64,{0}\" type=\"video/mp4\" />\n",
    "             </video>'''.format(encoded.decode('ascii'))"
   ]
  },
  {
   "cell_type": "markdown",
   "metadata": {
    "colab_type": "text",
    "id": "ACd9FTt3E-Px"
   },
   "source": [
    "__Question 2__ Explain the use of the arrays ```position``` and ```board```."
   ]
  },
  {
   "cell_type": "markdown",
   "metadata": {
    "colab_type": "text",
    "id": "ZvPgYw44E-Py"
   },
   "source": [
    "- The array \"position\" gives to the rat the information of where it can go among the cells it sees (0 if the cell is accessible, -1 if not accessible i.e: the boundaries, and 1 if the rat is already in the cell).\n",
    "\n",
    "- The array \"board\" gives to the rat the rewards present in each cell he sees (0.5 if there is a cheese in the cell, -1 if there is poison, 0 if there is nothing). "
   ]
  },
  {
   "cell_type": "markdown",
   "metadata": {
    "colab_type": "text",
    "id": "SqhGmJgDE-Py"
   },
   "source": [
    "## Random Agent"
   ]
  },
  {
   "cell_type": "markdown",
   "metadata": {
    "colab_type": "text",
    "id": "JUhqH832E-Pz"
   },
   "source": [
    "***\n",
    "__Question 3__ Implement a random Agent (only ```learned_act``` needs to be implemented):"
   ]
  },
  {
   "cell_type": "code",
   "execution_count": 0,
   "metadata": {
    "colab": {},
    "colab_type": "code",
    "id": "j3mqGpA8E-P0"
   },
   "outputs": [],
   "source": [
    "class RandomAgent(Agent):\n",
    "    def __init__(self):\n",
    "        super(RandomAgent, self).__init__()\n",
    "        pass\n",
    "\n",
    "    def learned_act(self, s):\n",
    "        action = np.random.randint(0, self.n_action, size=1)[0]\n",
    "        return action"
   ]
  },
  {
   "cell_type": "markdown",
   "metadata": {
    "colab_type": "text",
    "id": "9Bet_5iLE-P2"
   },
   "source": [
    "***\n",
    "***\n",
    "__Question 4__ Visualize the game moves. You need to fill in the following function for the evaluation:"
   ]
  },
  {
   "cell_type": "code",
   "execution_count": 0,
   "metadata": {
    "colab": {},
    "colab_type": "code",
    "id": "qs1-7qDGE-P3"
   },
   "outputs": [],
   "source": [
    "def test(agent,env,epochs,prefix=''):\n",
    "    # Number of won games\n",
    "    score = 0\n",
    "        \n",
    "    for e in range(epochs):\n",
    "        ##### FILL IN HERE\n",
    "        state = env.reset()\n",
    "        win = 0\n",
    "        lose = 0\n",
    "        game_over = False\n",
    "        \n",
    "        while not game_over:\n",
    "            action = agent.act(state)\n",
    "\n",
    "            prev_state = state\n",
    "            state, reward, game_over = env.act(action)\n",
    "            \n",
    "            # Update the counters\n",
    "            if reward > 0:\n",
    "                win = win + reward\n",
    "            if reward < 0:\n",
    "                lose = lose -reward\n",
    "\n",
    "        \n",
    "        # Save as a mp4\n",
    "        env.draw(prefix+str(e))\n",
    "\n",
    "        # Update stats\n",
    "        score = score + win-lose\n",
    "\n",
    "        print(\"Win/lose count {}/{}. Average score ({})\"\n",
    "              .format(win, lose, score/(1+e)))\n",
    "    print('Final score: '+str(score/epochs))"
   ]
  },
  {
   "cell_type": "code",
   "execution_count": 11,
   "metadata": {
    "colab": {
     "base_uri": "https://localhost:8080/",
     "height": 814
    },
    "colab_type": "code",
    "id": "VWxoVM-GE-P6",
    "outputId": "b07feabb-4fc1-4e85-eba8-235c6068409e"
   },
   "outputs": [
    {
     "name": "stdout",
     "output_type": "stream",
     "text": [
      "Win/lose count 3.0/7.0. Average score (-4.0)\n",
      "Win/lose count 13.0/10.0. Average score (-0.5)\n",
      "Win/lose count 6.0/18.0. Average score (-4.333333333333333)\n",
      "Win/lose count 8.5/11.0. Average score (-3.875)\n",
      "Win/lose count 6.5/11.0. Average score (-4.0)\n",
      "Win/lose count 4.0/4.0. Average score (-3.3333333333333335)\n",
      "Win/lose count 8.5/21.0. Average score (-4.642857142857143)\n",
      "Win/lose count 4.0/11.0. Average score (-4.9375)\n",
      "Win/lose count 7.5/18.0. Average score (-5.555555555555555)\n",
      "Win/lose count 6.5/15.0. Average score (-5.85)\n",
      "Win/lose count 15.5/13.0. Average score (-5.090909090909091)\n",
      "Win/lose count 8.5/20.0. Average score (-5.625)\n",
      "Win/lose count 9.5/18.0. Average score (-5.846153846153846)\n",
      "Win/lose count 14.5/16.0. Average score (-5.535714285714286)\n",
      "Win/lose count 5.5/12.0. Average score (-5.6)\n",
      "Win/lose count 9.0/12.0. Average score (-5.4375)\n",
      "Win/lose count 10.0/19.0. Average score (-5.647058823529412)\n",
      "Win/lose count 8.0/8.0. Average score (-5.333333333333333)\n",
      "Win/lose count 11.0/16.0. Average score (-5.315789473684211)\n",
      "Win/lose count 10.0/8.0. Average score (-4.95)\n",
      "Win/lose count 5.5/12.0. Average score (-5.023809523809524)\n",
      "Win/lose count 5.0/8.0. Average score (-4.931818181818182)\n",
      "Win/lose count 8.5/29.0. Average score (-5.608695652173913)\n",
      "Win/lose count 13.5/14.0. Average score (-5.395833333333333)\n",
      "Win/lose count 5.5/13.0. Average score (-5.48)\n",
      "Win/lose count 7.5/12.0. Average score (-5.4423076923076925)\n",
      "Win/lose count 12.5/16.0. Average score (-5.37037037037037)\n",
      "Win/lose count 10.0/12.0. Average score (-5.25)\n",
      "Win/lose count 7.5/13.0. Average score (-5.258620689655173)\n",
      "Win/lose count 10.0/22.0. Average score (-5.483333333333333)\n",
      "Final score: -5.483333333333333\n"
     ]
    },
    {
     "data": {
      "text/html": [
       "<video alt=\"test\" controls>\n",
       "                <source src=\"data:video/mp4;base64,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\" type=\"video/mp4\" />\n",
       "             </video>"
      ],
      "text/plain": [
       "<IPython.core.display.HTML object>"
      ]
     },
     "execution_count": 11,
     "metadata": {
      "tags": []
     },
     "output_type": "execute_result"
    }
   ],
   "source": [
    "# Initialize the game\n",
    "env = Environment(grid_size=size, max_time=T,temperature=temperature)\n",
    "\n",
    "# Initialize the agent!\n",
    "agent = RandomAgent()\n",
    "\n",
    "test(agent,env,epochs_test,prefix='random')\n",
    "HTML(display_videos('random0.mp4'))"
   ]
  },
  {
   "cell_type": "markdown",
   "metadata": {
    "colab_type": "text",
    "id": "RTmOhsHhE-P-"
   },
   "source": [
    "***\n",
    "## DQN"
   ]
  },
  {
   "cell_type": "markdown",
   "metadata": {
    "colab_type": "text",
    "id": "U93-2xQ1E-P_"
   },
   "source": [
    "Let us assume here that $T=\\infty$.\n",
    "\n",
    "***\n",
    "__Question 5__ Let $\\pi$ be a policy, show that:\n",
    "\n",
    "\\begin{equation*}\n",
    "Q^{\\pi}(s,a)=E_{(s',a')\\sim p(.|s,a)}[r(s,a)+\\gamma Q^{\\pi}(s',a')]\n",
    "\\end{equation*}\n",
    "\n",
    "Then, show that for the optimal policy $\\pi^*$ (we assume its existence), the following holds: \n",
    "\n",
    "\\begin{equation*}\n",
    "Q^{*}(s,a)=E_{s'\\sim \\pi^*(.|s,a)}[r(s,a)+\\gamma\\max_{a'}Q^{*}(s',a')].\n",
    "\\end{equation*}\n",
    "Finally, deduce that a plausible objective is:\n",
    "\n",
    "\\begin{equation*}\n",
    "\\mathcal{L}(\\theta)=E_{s' \\sim \\pi^*(.|s,a)}\\Vert r+\\gamma\\max\\max_{a'}Q(s',a',\\theta)-Q(s,a,\\theta)\\Vert^{2}.\n",
    "\\end{equation*}\n",
    "\n",
    "\n"
   ]
  },
  {
   "cell_type": "markdown",
   "metadata": {
    "colab_type": "text",
    "id": "UX7SZQfBE-P_"
   },
   "source": [
    " According to the definition:\n",
    " \\begin{align*}\n",
    "    Q^\\pi (s,a) &= E_{p^\\pi} [\\sum_{t=0}^\\infty \\gamma^t r(s_t, a_t)|s_0 = s, a_0 = a] \\\\\n",
    "    &= E_{p^\\pi} [r_0 + \\gamma \\sum_{t=0}^\\infty \\gamma^t r(s_{t+1}, a_{t+1})|s_0 = s, a_0 = a]\n",
    "  \\end{align*}\n",
    "  \n",
    " The first term can be written as \\begin{align*}\n",
    "    E_{p^\\pi} [r_0|s_0 = s, a_0 = a] &= \\sum_{s'} p(s'|s, a) r(s, a) \\\\\n",
    "  \\end{align*}\n",
    "  \n",
    " The second term can be written as \n",
    "\n",
    "\\begin{align*}\n",
    "    E_{p^\\pi} [\\gamma \\sum_{t=0}^\\infty \\gamma^t r(s_{t+1}, a_{t+1})|s_0 = s, a_0 = a] &= \\sum_{s'} p(s'|s, a) \\gamma E_{p^\\pi} [\\sum_{t=0}^\\infty \\gamma^t r(s_{t+1}, a_{t+1}) | s_1 = s']\\\\\n",
    "  \\end{align*}\n",
    "  \n",
    " Thus the sum is \n",
    "  \\begin{align*}\n",
    "    Q^\\pi (s,a) &=  \\sum_{s'} p(s'|s, a) \\Big (r(s, a) + \\gamma \\sum_{a'} E_{p^\\pi} [\\sum_{t=0}^\\infty \\gamma^t r(s_{t+1}, a_{t+1}) | s_1 = s', a_1 = a'] \\Big ) \\\\\n",
    "    &= \\sum_{s'} p(s'|s, a) \\Big (r(s, a) + \\gamma Q^\\pi (s', a') \\Big ) \\\\\n",
    "    &= E_{(s',a') \\thicksim p(\\cdot|s, a)} [r(s,a) + \\gamma Q^\\pi (s', a')]\n",
    "  \\end{align*}\n",
    "  \n",
    " Given that the optimal policy $\\pi^* = \\mbox{argmax}_{a} = Q^* (s,a)$ exists, we have\n",
    "\n",
    " \\begin{align*}\n",
    "    Q^*(s,a) &= \\max_{\\pi}Q^\\pi(s,a) = Q^{\\pi^*}(s,a) \\\\\n",
    "    &= E_{s'\\sim \\pi^*(.|s,a)}[r(s,a)+\\gamma\\max_{a'}Q^{*}(s',a')]\n",
    "  \\end{align*}\n",
    "  \n",
    " What we want to minimize is the difference between the Q-learning target $Q^*(s,a, \\theta)$ and the Q-learning prediction $Q(s,a, \\theta)$, which can be formulated into the following least-square problem:\n",
    "\n",
    "\\begin{equation*}\n",
    "\\mathcal{L}(\\theta)=E_{s' \\sim \\pi^*(.|s,a)}\\Vert r+\\gamma\\max_{a'}Q(s',a',\\theta)-Q(s,a,\\theta)\\Vert^{2}.\n",
    "\\end{equation*}"
   ]
  },
  {
   "cell_type": "markdown",
   "metadata": {
    "colab_type": "text",
    "id": "y93atCJDE-QA"
   },
   "source": [
    "***\n",
    "The DQN-learning algorithm relies on these derivations to train the parameters $\\theta$ of a Deep Neural Network:\n",
    "\n",
    "1. At the state $s_t$, select the action $a_t$ with best reward using $Q_t$ and store the results;\n",
    "\n",
    "2. Obtain the new state $s_{t+1}$ from the environment $p$;\n",
    "\n",
    "3. Store $(s_t,a_t,s_{t+1})$;\n",
    "\n",
    "4. Obtain $Q_{t+1}$ by minimizing  $\\mathcal{L}$ from a recovered batch from the previously stored results.\n",
    "\n",
    "***\n",
    "__Question 6__ Implement the class ```Memory``` that stores moves (in a replay buffer) via ```remember``` and provides a ```random_access``` to these. Specify a maximum memory size to avoid side effects. You can for example use a ```list()``` and set by default ```max_memory=100```."
   ]
  },
  {
   "cell_type": "code",
   "execution_count": 0,
   "metadata": {
    "colab": {},
    "colab_type": "code",
    "id": "0aK03WuVE-QB"
   },
   "outputs": [],
   "source": [
    "class Memory(object):\n",
    "    def __init__(self, max_memory=100):\n",
    "        self.max_memory = max_memory\n",
    "        self.memory = list()\n",
    "\n",
    "    def remember(self, m):\n",
    "        if len(self.memory)>self.max_memory-1:\n",
    "            self.memory.pop(0)\n",
    "        self.memory.append(m)\n",
    "                            \n",
    "    def random_access(self):\n",
    "        rnd = np.random.randint(0,len(self.memory))\n",
    "        return self.memory[rnd]"
   ]
  },
  {
   "cell_type": "markdown",
   "metadata": {
    "colab_type": "text",
    "id": "NDmFthrYE-QE"
   },
   "source": [
    "***\n",
    "The pipeline we will use for training is given below:"
   ]
  },
  {
   "cell_type": "code",
   "execution_count": 0,
   "metadata": {
    "colab": {},
    "colab_type": "code",
    "id": "aOl9IAFgE-QE"
   },
   "outputs": [],
   "source": [
    "def train(agent,env,epoch,prefix=''):\n",
    "    # Number of won games\n",
    "    score = 0\n",
    "    loss = 0\n",
    "\n",
    "    for e in range(epoch):\n",
    "        # At each epoch, we restart to a fresh game and get the initial state\n",
    "        state = env.reset()\n",
    "        # This assumes that the games will terminate\n",
    "        game_over = False\n",
    "\n",
    "        win = 0\n",
    "        lose = 0\n",
    "\n",
    "        while not game_over:\n",
    "            # The agent performs an action\n",
    "            action = agent.act(state)\n",
    "\n",
    "            # Apply an action to the environment, get the next state, the reward\n",
    "            # and if the games end\n",
    "            prev_state = state\n",
    "            state, reward, game_over = env.act(action)\n",
    "\n",
    "            # Update the counters\n",
    "            if reward > 0:\n",
    "                win = win + reward\n",
    "            if reward < 0:\n",
    "                lose = lose -reward\n",
    "\n",
    "            # Apply the reinforcement strategy\n",
    "            loss = agent.reinforce(prev_state, state,  action, reward, game_over)\n",
    "\n",
    "        # Save as a mp4\n",
    "        if e % 10 == 0:\n",
    "            env.draw(prefix+str(e))\n",
    "\n",
    "        # Update stats\n",
    "        score += win-lose\n",
    "\n",
    "        print(\"Epoch {:03d}/{:03d} | Loss {:.4f} | Win/lose count {}/{} ({})\"\n",
    "              .format(e, epoch, loss, win, lose, win-lose))\n",
    "        agent.save(name_weights=prefix+'model.h5',name_model=prefix+'model.json')"
   ]
  },
  {
   "cell_type": "markdown",
   "metadata": {
    "colab_type": "text",
    "id": "_r_jCDDrE-QI"
   },
   "source": [
    "***\n",
    "__Question 7__ Implement the DQN training algorithm using a cascade of fully connected layers. You can use different learning rate, batch size or memory size parameters. In particular, the loss might oscillate while the player will start to win the games. You have to find a good criterium."
   ]
  },
  {
   "cell_type": "code",
   "execution_count": 0,
   "metadata": {
    "colab": {},
    "colab_type": "code",
    "id": "-EtqKKfSE-QJ"
   },
   "outputs": [],
   "source": [
    "class DQN(Agent):\n",
    "    def __init__(self, grid_size,  epsilon = 0.1, memory_size=100, batch_size = 16,n_state=2):\n",
    "        super(DQN, self).__init__(epsilon = epsilon)\n",
    "\n",
    "        # Discount for Q learning\n",
    "        self.discount = 0.99\n",
    "        \n",
    "        self.grid_size = grid_size\n",
    "        \n",
    "        # number of state\n",
    "        self.n_state = n_state\n",
    "\n",
    "        # Memory\n",
    "        self.memory = Memory(memory_size)\n",
    "        \n",
    "        # Batch size when learning\n",
    "        self.batch_size = batch_size\n",
    "\n",
    "    def learned_act(self, s):\n",
    "        action_values = self.model.predict(s.reshape(1, 5, 5, self.n_state))\n",
    "        return np.argmax(action_values)\n",
    "\n",
    "    def reinforce(self, s_, n_s_, a_, r_, game_over_):\n",
    "        # Two steps: first memorize the states, second learn from the pool\n",
    "\n",
    "        self.memory.remember([s_, n_s_, a_, r_, game_over_])        \n",
    "        input_states = np.zeros((self.batch_size, 5,5,self.n_state))\n",
    "        target_q = np.zeros((self.batch_size, 4))\n",
    "        \n",
    "        for i in range(self.batch_size):\n",
    "            ######## FILL IN\n",
    "            state, new_state, action, reward, game_over_ = self.memory.random_access()                        \n",
    "            input_states[i] = state\n",
    "            target_q[i] = self.model.predict(state.reshape(1, 5, 5, self.n_state))\n",
    "            \n",
    "            if game_over_:\n",
    "                ######## FILL IN\n",
    "                target_q[i][action] = reward\n",
    "            else:\n",
    "                ######## FILL IN\n",
    "                target_q[i][action] = reward + self.discount * np.max(self.model.predict(new_state.reshape(1, 5, 5, self.n_state)))\n",
    "        ######## FILL IN\n",
    "        # HINT: Clip the target to avoid exploiding gradients.. -- clipping is a bit tighter\n",
    "        target_q = np.clip(target_q, -3, 3)\n",
    "\n",
    "        l = self.model.train_on_batch(input_states, target_q)\n",
    "\n",
    "        return l\n",
    "\n",
    "    def save(self,name_weights='model.h5',name_model='model.json'):\n",
    "        self.model.save_weights(name_weights, overwrite=True)\n",
    "        with open(name_model, \"w\") as outfile:\n",
    "            json.dump(self.model.to_json(), outfile)\n",
    "            \n",
    "    def load(self,name_weights='model.h5',name_model='model.json'):\n",
    "        with open(name_model, \"r\") as jfile:\n",
    "            model = model_from_json(json.load(jfile))\n",
    "        model.load_weights(name_weights)\n",
    "        model.compile(\"sgd\", \"mse\")\n",
    "        self.model = model\n",
    "\n",
    "            \n",
    "class DQN_FC(DQN):\n",
    "    def __init__(self, *args, lr=0.1,**kwargs):\n",
    "        super(DQN_FC, self).__init__( *args,**kwargs)\n",
    "        \n",
    "        # NN Model\n",
    "        \n",
    "        ####### FILL IN\n",
    "        model = Sequential([\n",
    "            Flatten(input_shape=(5, 5, self.n_state)),\n",
    "            Dense(32, activation=\"relu\"),\n",
    "            Dense(16, activation=\"relu\"),\n",
    "            Dense(4)])\n",
    "        \n",
    "        model.compile(sgd(lr=lr, decay=1e-4, momentum=0.0), \"mse\")\n",
    "        self.model = model\n",
    "        "
   ]
  },
  {
   "cell_type": "code",
   "execution_count": 15,
   "metadata": {
    "colab": {
     "base_uri": "https://localhost:8080/",
     "height": 1000
    },
    "colab_type": "code",
    "id": "U7MLSeG4E-QL",
    "outputId": "70db0c96-8a3f-40a6-d102-4e10d475140f"
   },
   "outputs": [
    {
     "name": "stdout",
     "output_type": "stream",
     "text": [
      "WARNING:tensorflow:From /usr/local/lib/python3.6/dist-packages/keras/backend/tensorflow_backend.py:66: The name tf.get_default_graph is deprecated. Please use tf.compat.v1.get_default_graph instead.\n",
      "\n",
      "WARNING:tensorflow:From /usr/local/lib/python3.6/dist-packages/keras/backend/tensorflow_backend.py:541: The name tf.placeholder is deprecated. Please use tf.compat.v1.placeholder instead.\n",
      "\n",
      "WARNING:tensorflow:From /usr/local/lib/python3.6/dist-packages/keras/backend/tensorflow_backend.py:4432: The name tf.random_uniform is deprecated. Please use tf.random.uniform instead.\n",
      "\n",
      "WARNING:tensorflow:From /usr/local/lib/python3.6/dist-packages/keras/optimizers.py:793: The name tf.train.Optimizer is deprecated. Please use tf.compat.v1.train.Optimizer instead.\n",
      "\n",
      "WARNING:tensorflow:From /usr/local/lib/python3.6/dist-packages/keras/backend/tensorflow_backend.py:3005: The name tf.Session is deprecated. Please use tf.compat.v1.Session instead.\n",
      "\n",
      "WARNING:tensorflow:From /usr/local/lib/python3.6/dist-packages/keras/backend/tensorflow_backend.py:190: The name tf.get_default_session is deprecated. Please use tf.compat.v1.get_default_session instead.\n",
      "\n",
      "WARNING:tensorflow:From /usr/local/lib/python3.6/dist-packages/keras/backend/tensorflow_backend.py:197: The name tf.ConfigProto is deprecated. Please use tf.compat.v1.ConfigProto instead.\n",
      "\n",
      "WARNING:tensorflow:From /usr/local/lib/python3.6/dist-packages/keras/backend/tensorflow_backend.py:207: The name tf.global_variables is deprecated. Please use tf.compat.v1.global_variables instead.\n",
      "\n",
      "WARNING:tensorflow:From /usr/local/lib/python3.6/dist-packages/keras/backend/tensorflow_backend.py:216: The name tf.is_variable_initialized is deprecated. Please use tf.compat.v1.is_variable_initialized instead.\n",
      "\n",
      "WARNING:tensorflow:From /usr/local/lib/python3.6/dist-packages/keras/backend/tensorflow_backend.py:223: The name tf.variables_initializer is deprecated. Please use tf.compat.v1.variables_initializer instead.\n",
      "\n",
      "WARNING:tensorflow:From /usr/local/lib/python3.6/dist-packages/keras/backend/tensorflow_backend.py:1033: The name tf.assign_add is deprecated. Please use tf.compat.v1.assign_add instead.\n",
      "\n",
      "WARNING:tensorflow:From /usr/local/lib/python3.6/dist-packages/keras/backend/tensorflow_backend.py:1020: The name tf.assign is deprecated. Please use tf.compat.v1.assign instead.\n",
      "\n",
      "Epoch 000/040 | Loss 0.0034 | Win/lose count 2.0/4.0 (-2.0)\n",
      "Epoch 001/040 | Loss 0.0102 | Win/lose count 1.0/5.0 (-4.0)\n",
      "Epoch 002/040 | Loss 0.0168 | Win/lose count 4.0/6.0 (-2.0)\n",
      "Epoch 003/040 | Loss 0.0024 | Win/lose count 4.5/2.0 (2.5)\n",
      "Epoch 004/040 | Loss 0.0075 | Win/lose count 4.5/9.0 (-4.5)\n",
      "Epoch 005/040 | Loss 0.0029 | Win/lose count 1.0/5.0 (-4.0)\n",
      "Epoch 006/040 | Loss 0.0182 | Win/lose count 3.0/4.0 (-1.0)\n",
      "Epoch 007/040 | Loss 0.0160 | Win/lose count 4.0/6.0 (-2.0)\n",
      "Epoch 008/040 | Loss 0.0022 | Win/lose count 1.5/1.0 (0.5)\n",
      "Epoch 009/040 | Loss 0.0101 | Win/lose count 5.0/7.0 (-2.0)\n",
      "Epoch 010/040 | Loss 0.0101 | Win/lose count 4.0/6.0 (-2.0)\n",
      "Epoch 011/040 | Loss 0.0016 | Win/lose count 1.0/1.0 (0.0)\n",
      "Epoch 012/040 | Loss 0.0156 | Win/lose count 5.5/1.0 (4.5)\n",
      "Epoch 013/040 | Loss 0.0063 | Win/lose count 5.0/3.0 (2.0)\n",
      "Epoch 014/040 | Loss 0.0109 | Win/lose count 1.5/3.0 (-1.5)\n",
      "Epoch 015/040 | Loss 0.0072 | Win/lose count 4.5/1.0 (3.5)\n",
      "Epoch 016/040 | Loss 0.0059 | Win/lose count 5.5/7.0 (-1.5)\n",
      "Epoch 017/040 | Loss 0.0117 | Win/lose count 1.5/2.0 (-0.5)\n",
      "Epoch 018/040 | Loss 0.0088 | Win/lose count 2.0/4.0 (-2.0)\n",
      "Epoch 019/040 | Loss 0.0041 | Win/lose count 3.0/6.0 (-3.0)\n",
      "Epoch 020/040 | Loss 0.0024 | Win/lose count 4.0/5.0 (-1.0)\n",
      "Epoch 021/040 | Loss 0.0037 | Win/lose count 3.5/4.0 (-0.5)\n",
      "Epoch 022/040 | Loss 0.0057 | Win/lose count 6.0/3.0 (3.0)\n",
      "Epoch 023/040 | Loss 0.0069 | Win/lose count 4.0/3.0 (1.0)\n",
      "Epoch 024/040 | Loss 0.0073 | Win/lose count 3.0/3.0 (0.0)\n",
      "Epoch 025/040 | Loss 0.0014 | Win/lose count 3.5/3.0 (0.5)\n",
      "Epoch 026/040 | Loss 0.0065 | Win/lose count 5.0/5.0 (0.0)\n",
      "Epoch 027/040 | Loss 0.0032 | Win/lose count 9.0/4.0 (5.0)\n",
      "Epoch 028/040 | Loss 0.0028 | Win/lose count 6.5/4.0 (2.5)\n",
      "Epoch 029/040 | Loss 0.0026 | Win/lose count 6.0/4.0 (2.0)\n",
      "Epoch 030/040 | Loss 0.0079 | Win/lose count 2.0/1.0 (1.0)\n",
      "Epoch 031/040 | Loss 0.0086 | Win/lose count 4.0/2.0 (2.0)\n",
      "Epoch 032/040 | Loss 0.0070 | Win/lose count 6.5/1.0 (5.5)\n",
      "Epoch 033/040 | Loss 0.0077 | Win/lose count 3.0/1.0 (2.0)\n",
      "Epoch 034/040 | Loss 0.0055 | Win/lose count 3.0/2.0 (1.0)\n",
      "Epoch 035/040 | Loss 0.0213 | Win/lose count 3.0/3.0 (0.0)\n",
      "Epoch 036/040 | Loss 0.0051 | Win/lose count 9.5/5.0 (4.5)\n",
      "Epoch 037/040 | Loss 0.0177 | Win/lose count 4.5/3.0 (1.5)\n",
      "Epoch 038/040 | Loss 0.0041 | Win/lose count 5.5/2.0 (3.5)\n",
      "Epoch 039/040 | Loss 0.0061 | Win/lose count 1.5/2.0 (-0.5)\n"
     ]
    },
    {
     "data": {
      "text/html": [
       "<video alt=\"test\" controls>\n",
       "                <source src=\"data:video/mp4;base64,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\" type=\"video/mp4\" />\n",
       "             </video>"
      ],
      "text/plain": [
       "<IPython.core.display.HTML object>"
      ]
     },
     "execution_count": 15,
     "metadata": {
      "tags": []
     },
     "output_type": "execute_result"
    }
   ],
   "source": [
    "env = Environment(grid_size=size, max_time=T, temperature=0.3)\n",
    "agent = DQN_FC(size, lr=.1, epsilon = 0.1, memory_size=2000, batch_size = 32)\n",
    "train(agent, env, epochs_train, prefix='fc_train')\n",
    "HTML(display_videos('fc_train0.mp4'))"
   ]
  },
  {
   "cell_type": "markdown",
   "metadata": {
    "colab_type": "text",
    "id": "yShwcDaiE-QO"
   },
   "source": [
    "***\n",
    "***\n",
    "__Question 8__ Implement the DQN training algorithm using a CNN (for example, 2 convolutional layers and one final fully connected layer)."
   ]
  },
  {
   "cell_type": "code",
   "execution_count": 0,
   "metadata": {
    "colab": {},
    "colab_type": "code",
    "id": "4esCsOqOE-QP"
   },
   "outputs": [],
   "source": [
    "class DQN_CNN(DQN):\n",
    "    def __init__(self, *args,lr=0.1,**kwargs):\n",
    "        super(DQN_CNN, self).__init__(*args,**kwargs)\n",
    "        \n",
    "        ###### FILL IN\n",
    "        model = Sequential([\n",
    "            Conv2D(64, (3,3), activation='relu', padding=\"same\",input_shape=(5,5,self.n_state)),\n",
    "            Conv2D(32, (3,3), activation='relu',padding=\"same\"),\n",
    "            Conv2D(32, (3,3), activation='relu',padding=\"same\"),\n",
    "            Flatten(),\n",
    "            Dense(32),\n",
    "            Dropout(0.2),\n",
    "            Dense(4) \n",
    "        ])\n",
    "\n",
    "        \n",
    "        model.compile(sgd(lr=lr, decay=1e-4, momentum=0.0), \"mse\")\n",
    "        self.model = model"
   ]
  },
  {
   "cell_type": "code",
   "execution_count": 26,
   "metadata": {
    "colab": {
     "base_uri": "https://localhost:8080/",
     "height": 965
    },
    "colab_type": "code",
    "id": "v87uvhsbE-QR",
    "outputId": "585f778b-7fdd-4fe3-9779-74faee849d3d"
   },
   "outputs": [
    {
     "name": "stdout",
     "output_type": "stream",
     "text": [
      "Epoch 000/040 | Loss 0.0013 | Win/lose count 2.0/8.0 (-6.0)\n",
      "Epoch 001/040 | Loss 0.0032 | Win/lose count 3.0/2.0 (1.0)\n",
      "Epoch 002/040 | Loss 0.0040 | Win/lose count 1.0/5.0 (-4.0)\n",
      "Epoch 003/040 | Loss 0.0017 | Win/lose count 4.0/6.0 (-2.0)\n",
      "Epoch 004/040 | Loss 0.0047 | Win/lose count 4.0/3.0 (1.0)\n",
      "Epoch 005/040 | Loss 0.0013 | Win/lose count 1.5/2.0 (-0.5)\n",
      "Epoch 006/040 | Loss 0.0016 | Win/lose count 1.5/4.0 (-2.5)\n",
      "Epoch 007/040 | Loss 0.0078 | Win/lose count 2.0/4.0 (-2.0)\n",
      "Epoch 008/040 | Loss 0.0014 | Win/lose count 3.5/1.0 (2.5)\n",
      "Epoch 009/040 | Loss 0.0037 | Win/lose count 5.0/2.0 (3.0)\n",
      "Epoch 010/040 | Loss 0.0058 | Win/lose count 2.5/0 (2.5)\n",
      "Epoch 011/040 | Loss 0.0076 | Win/lose count 4.0/3.0 (1.0)\n",
      "Epoch 012/040 | Loss 0.0124 | Win/lose count 4.0/1.0 (3.0)\n",
      "Epoch 013/040 | Loss 0.0064 | Win/lose count 3.0/2.0 (1.0)\n",
      "Epoch 014/040 | Loss 0.0035 | Win/lose count 4.5/4.0 (0.5)\n",
      "Epoch 015/040 | Loss 0.0049 | Win/lose count 4.5/4.0 (0.5)\n",
      "Epoch 016/040 | Loss 0.0023 | Win/lose count 4.5/3.0 (1.5)\n",
      "Epoch 017/040 | Loss 0.0075 | Win/lose count 4.0/4.0 (0.0)\n",
      "Epoch 018/040 | Loss 0.0035 | Win/lose count 6.0/2.0 (4.0)\n",
      "Epoch 019/040 | Loss 0.0049 | Win/lose count 5.0/1.0 (4.0)\n",
      "Epoch 020/040 | Loss 0.0050 | Win/lose count 6.0/3.0 (3.0)\n",
      "Epoch 021/040 | Loss 0.0083 | Win/lose count 2.0/2.0 (0.0)\n",
      "Epoch 022/040 | Loss 0.0090 | Win/lose count 7.5/2.0 (5.5)\n",
      "Epoch 023/040 | Loss 0.0104 | Win/lose count 5.5/3.0 (2.5)\n",
      "Epoch 024/040 | Loss 0.0084 | Win/lose count 7.0/7.0 (0.0)\n",
      "Epoch 025/040 | Loss 0.0059 | Win/lose count 5.5/4.0 (1.5)\n",
      "Epoch 026/040 | Loss 0.0085 | Win/lose count 8.0/4.0 (4.0)\n",
      "Epoch 027/040 | Loss 0.0078 | Win/lose count 9.0/3.0 (6.0)\n",
      "Epoch 028/040 | Loss 0.0193 | Win/lose count 8.5/3.0 (5.5)\n",
      "Epoch 029/040 | Loss 0.0062 | Win/lose count 10.5/1.0 (9.5)\n",
      "Epoch 030/040 | Loss 0.0131 | Win/lose count 4.0/3.0 (1.0)\n",
      "Epoch 031/040 | Loss 0.0197 | Win/lose count 12.0/5.0 (7.0)\n",
      "Epoch 032/040 | Loss 0.0069 | Win/lose count 16.5/3.0 (13.5)\n",
      "Epoch 033/040 | Loss 0.0193 | Win/lose count 14.0/5.0 (9.0)\n",
      "Epoch 034/040 | Loss 0.0090 | Win/lose count 6.5/4.0 (2.5)\n",
      "Epoch 035/040 | Loss 0.0169 | Win/lose count 22.0/7.0 (15.0)\n",
      "Epoch 036/040 | Loss 0.0117 | Win/lose count 4.5/1.0 (3.5)\n",
      "Epoch 037/040 | Loss 0.0082 | Win/lose count 15.5/3.0 (12.5)\n",
      "Epoch 038/040 | Loss 0.0100 | Win/lose count 14.0/4.0 (10.0)\n",
      "Epoch 039/040 | Loss 0.0169 | Win/lose count 13.5/6.0 (7.5)\n"
     ]
    },
    {
     "data": {
      "text/html": [
       "<video alt=\"test\" controls>\n",
       "                <source src=\"data:video/mp4;base64,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\" type=\"video/mp4\" />\n",
       "             </video>"
      ],
      "text/plain": [
       "<IPython.core.display.HTML object>"
      ]
     },
     "execution_count": 26,
     "metadata": {
      "tags": []
     },
     "output_type": "execute_result"
    }
   ],
   "source": [
    "env = Environment(grid_size=size, max_time=T, temperature=0.3)\n",
    "agent = DQN_CNN(size, lr=.1, epsilon = 0.1, memory_size=2000, batch_size = 32)\n",
    "train(agent,env,epochs_train,prefix='cnn_train')\n",
    "HTML(display_videos('cnn_train0.mp4'))"
   ]
  },
  {
   "cell_type": "markdown",
   "metadata": {
    "colab_type": "text",
    "id": "nLqxq4TYE-QU"
   },
   "source": [
    "***\n",
    "***\n",
    "__Question 9__ Test both algorithms and compare their performances. Which issue(s) do you observe? Observe also different behaviors by changing the temperature."
   ]
  },
  {
   "cell_type": "code",
   "execution_count": 27,
   "metadata": {
    "colab": {
     "base_uri": "https://localhost:8080/",
     "height": 1000
    },
    "colab_type": "code",
    "id": "hL184hhoE-QV",
    "outputId": "37f0333f-94ac-4b4e-a06b-7917a3f54606"
   },
   "outputs": [
    {
     "name": "stdout",
     "output_type": "stream",
     "text": [
      "Test of the CNN\n",
      "Win/lose count 6.0/4.0. Average score (2.0)\n",
      "Win/lose count 3.0/2.0. Average score (1.5)\n",
      "Win/lose count 5.5/2.0. Average score (2.1666666666666665)\n",
      "Win/lose count 8.5/3.0. Average score (3.0)\n",
      "Win/lose count 6.5/2.0. Average score (3.3)\n",
      "Win/lose count 4.0/2.0. Average score (3.0833333333333335)\n",
      "Win/lose count 5.5/4.0. Average score (2.857142857142857)\n",
      "Win/lose count 6.0/1.0. Average score (3.125)\n",
      "Win/lose count 5.5/5.0. Average score (2.8333333333333335)\n",
      "Win/lose count 4.5/3.0. Average score (2.7)\n",
      "Win/lose count 3.5/2.0. Average score (2.590909090909091)\n",
      "Win/lose count 1.5/2.0. Average score (2.3333333333333335)\n",
      "Win/lose count 4.0/1.0. Average score (2.3846153846153846)\n",
      "Win/lose count 5.0/2.0. Average score (2.4285714285714284)\n",
      "Win/lose count 7.5/4.0. Average score (2.5)\n",
      "Win/lose count 2.0/1.0. Average score (2.40625)\n",
      "Win/lose count 3.0/3.0. Average score (2.264705882352941)\n",
      "Win/lose count 3.5/0. Average score (2.3333333333333335)\n",
      "Win/lose count 4.5/1.0. Average score (2.3947368421052633)\n",
      "Win/lose count 3.0/2.0. Average score (2.325)\n",
      "Win/lose count 7.0/3.0. Average score (2.4047619047619047)\n",
      "Win/lose count 5.0/2.0. Average score (2.4318181818181817)\n",
      "Win/lose count 7.0/4.0. Average score (2.4565217391304346)\n",
      "Win/lose count 6.0/4.0. Average score (2.4375)\n",
      "Win/lose count 3.0/1.0. Average score (2.42)\n",
      "Win/lose count 3.0/1.0. Average score (2.4038461538461537)\n",
      "Win/lose count 4.5/1.0. Average score (2.4444444444444446)\n",
      "Win/lose count 3.5/2.0. Average score (2.4107142857142856)\n",
      "Win/lose count 4.0/1.0. Average score (2.4310344827586206)\n",
      "Win/lose count 8.0/1.0. Average score (2.5833333333333335)\n",
      "Final score: 2.5833333333333335\n",
      "Test of the FC\n",
      "Win/lose count 3.5/4.0. Average score (-0.5)\n",
      "Win/lose count 3.0/2.0. Average score (0.25)\n",
      "Win/lose count 2.0/4.0. Average score (-0.5)\n",
      "Win/lose count 2.0/3.0. Average score (-0.625)\n",
      "Win/lose count 3.0/7.0. Average score (-1.3)\n",
      "Win/lose count 7.0/5.0. Average score (-0.75)\n",
      "Win/lose count 3.5/4.0. Average score (-0.7142857142857143)\n",
      "Win/lose count 3.5/5.0. Average score (-0.8125)\n",
      "Win/lose count 1.5/1.0. Average score (-0.6666666666666666)\n",
      "Win/lose count 4.0/2.0. Average score (-0.4)\n",
      "Win/lose count 2.0/3.0. Average score (-0.45454545454545453)\n",
      "Win/lose count 5.0/12.0. Average score (-1.0)\n",
      "Win/lose count 5.5/3.0. Average score (-0.7307692307692307)\n",
      "Win/lose count 0.5/2.0. Average score (-0.7857142857142857)\n",
      "Win/lose count 5.0/4.0. Average score (-0.6666666666666666)\n",
      "Win/lose count 6.0/3.0. Average score (-0.4375)\n",
      "Win/lose count 2.0/2.0. Average score (-0.4117647058823529)\n",
      "Win/lose count 2.5/4.0. Average score (-0.4722222222222222)\n",
      "Win/lose count 1.0/5.0. Average score (-0.6578947368421053)\n",
      "Win/lose count 3.5/6.0. Average score (-0.75)\n",
      "Win/lose count 1.5/4.0. Average score (-0.8333333333333334)\n",
      "Win/lose count 2.0/8.0. Average score (-1.0681818181818181)\n",
      "Win/lose count 3.0/9.0. Average score (-1.2826086956521738)\n",
      "Win/lose count 4.5/3.0. Average score (-1.1666666666666667)\n",
      "Win/lose count 2.5/5.0. Average score (-1.22)\n",
      "Win/lose count 5.5/4.0. Average score (-1.1153846153846154)\n",
      "Win/lose count 6.5/6.0. Average score (-1.0555555555555556)\n",
      "Win/lose count 2.0/6.0. Average score (-1.1607142857142858)\n",
      "Win/lose count 1.5/5.0. Average score (-1.2413793103448276)\n",
      "Win/lose count 1.5/1.0. Average score (-1.1833333333333333)\n",
      "Final score: -1.1833333333333333\n"
     ]
    }
   ],
   "source": [
    "env = Environment(grid_size=size, max_time=T,temperature=0.3)\n",
    "agent_cnn = DQN_CNN(size, lr=.1, epsilon = 0.1, memory_size=2000, batch_size = 32)\n",
    "agent_cnn.load(name_weights='cnn_trainmodel.h5',name_model='cnn_trainmodel.json')\n",
    "\n",
    "agent_fc = DQN_FC(size, lr=.1, epsilon = 0.1, memory_size=2000, batch_size = 32)\n",
    "agent_cnn.load(name_weights='fc_trainmodel.h5',name_model='fc_trainmodel.json')\n",
    "print('Test of the CNN')\n",
    "test(agent_cnn,env,epochs_test,prefix='cnn_test')\n",
    "print('Test of the FC')\n",
    "test(agent_fc,env,epochs_test,prefix='fc_test')"
   ]
  },
  {
   "cell_type": "code",
   "execution_count": 28,
   "metadata": {
    "colab": {
     "base_uri": "https://localhost:8080/",
     "height": 293
    },
    "colab_type": "code",
    "id": "DWW8K55-E-QZ",
    "outputId": "58928e99-7389-4894-e9bc-4632330c1cf7"
   },
   "outputs": [
    {
     "data": {
      "text/html": [
       "<video alt=\"test\" controls>\n",
       "                <source src=\"data:video/mp4;base64,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\" type=\"video/mp4\" />\n",
       "             </video>"
      ],
      "text/plain": [
       "<IPython.core.display.HTML object>"
      ]
     },
     "execution_count": 28,
     "metadata": {
      "tags": []
     },
     "output_type": "execute_result"
    }
   ],
   "source": [
    "HTML(display_videos('cnn_test10.mp4'))"
   ]
  },
  {
   "cell_type": "code",
   "execution_count": 20,
   "metadata": {
    "colab": {
     "base_uri": "https://localhost:8080/",
     "height": 293
    },
    "colab_type": "code",
    "id": "3neGFxU8E-Qb",
    "outputId": "e5b81bbc-481a-4a7e-e3d4-e637c7e39299"
   },
   "outputs": [
    {
     "data": {
      "text/html": [
       "<video alt=\"test\" controls>\n",
       "                <source src=\"data:video/mp4;base64,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\" type=\"video/mp4\" />\n",
       "             </video>"
      ],
      "text/plain": [
       "<IPython.core.display.HTML object>"
      ]
     },
     "execution_count": 20,
     "metadata": {
      "tags": []
     },
     "output_type": "execute_result"
    }
   ],
   "source": [
    "HTML(display_videos('fc_test10.mp4'))"
   ]
  },
  {
   "cell_type": "markdown",
   "metadata": {
    "colab_type": "text",
    "id": "TP6d4qQLE-Qd"
   },
   "source": [
    "- The CNN architecture performs better than the fully-connected architecture. However, the agent doesn't seem to explore the map that much, and typically gets stuck between some states. \n",
    "- Effect of temperature: increasing temperature increases the positive rewards cells, which pushes the agent to explore more since positive reward is almost always in his reach. Thus, the final average score gets higher. However, When the temperature is low, the rat sometimes does not observe any positive reward and the problem of exploration is more influential. \n",
    "\n"
   ]
  },
  {
   "cell_type": "markdown",
   "metadata": {
    "colab_type": "text",
    "id": "r1gYLWVjE-Qe"
   },
   "source": [
    "***\n",
    "\n",
    "The algorithm tends to not explore the map which can be an issue. We propose two ideas in order to encourage exploration:\n",
    "1. Incorporating a decreasing $\\epsilon$-greedy exploration. You can use the method ```set_epsilon```\n",
    "2. Append via the environment a new state that describes if a cell has been visited or not\n",
    "\n",
    "***\n",
    "__Question 10__ Design a new ```train_explore``` function and environment class ```EnvironmentExploring``` to tackle the issue of exploration.\n",
    "\n"
   ]
  },
  {
   "cell_type": "code",
   "execution_count": 0,
   "metadata": {
    "colab": {},
    "colab_type": "code",
    "id": "lnmOZm0iE-Qf"
   },
   "outputs": [],
   "source": [
    "def train_explore(agent,env,epoch,prefix='', eps_decay = 0.99):\n",
    "    # Number of won games\n",
    "    score = 0\n",
    "    loss = 0\n",
    "    \n",
    "    for e in range(epoch):\n",
    "        # At each epoch, we restart to a fresh game and get the initial state\n",
    "        state = env.reset()\n",
    "        # This assumes that the games will terminate\n",
    "        game_over = False\n",
    "\n",
    "        win = 0\n",
    "        lose = 0\n",
    "\n",
    "        while not game_over:\n",
    "            # The agent performs an action\n",
    "            action = agent.act(state, train=True)\n",
    "\n",
    "            # Apply an action to the environment, get the next state, the reward\n",
    "            # and if the games end\n",
    "            prev_state = state\n",
    "            state, reward, game_over = env.act(action, train=True)\n",
    "\n",
    "            # Update the counters\n",
    "            if reward > 0:\n",
    "                win = win + reward\n",
    "            if reward < 0:\n",
    "                lose = lose -reward\n",
    "\n",
    "            # Apply the reinforcement strategy\n",
    "            loss = agent.reinforce(prev_state, state,  action, reward, game_over)\n",
    "            \n",
    "            #Decreasing eps-greedy policy\n",
    "            agent.set_epsilon(agent.epsilon * eps_decay)\n",
    "            \n",
    "        # Save as a mp4\n",
    "        if e % 10 == 0:\n",
    "            env.draw(prefix+str(e))\n",
    "\n",
    "        # Update stats\n",
    "        score += win-lose\n",
    "\n",
    "        print(\"Epoch {:03d}/{:03d} | Loss {:.4f} | Win/lose count {}/{} ({})\"\n",
    "              .format(e, epoch, loss, win, lose, win-lose))\n",
    "        agent.save(name_weights=prefix+'model.h5',name_model=prefix+'model.json')            \n",
    "        \n",
    "class EnvironmentExploring(object):\n",
    "    def __init__(self, grid_size=10, max_time=500, temperature=0.1):\n",
    "        grid_size = grid_size+4\n",
    "        self.grid_size = grid_size\n",
    "        self.max_time = max_time\n",
    "        self.temperature = temperature\n",
    "\n",
    "        #board on which one plays\n",
    "        self.malus_position = np.zeros((grid_size,grid_size))\n",
    "        self.board = np.zeros((grid_size,grid_size))\n",
    "        self.position = np.zeros((grid_size,grid_size))\n",
    "\n",
    "        # coordinate of the rat\n",
    "        self.x = 0\n",
    "        self.y = 1\n",
    "\n",
    "        # self time\n",
    "        self.t = 0\n",
    "\n",
    "        self.scale=16\n",
    "\n",
    "        self.to_draw = np.zeros((max_time+2, grid_size*self.scale, grid_size*self.scale, 3))\n",
    "        \n",
    "    def draw(self,e):\n",
    "        skvideo.io.vwrite(str(e) + '.mp4', self.to_draw)\n",
    "\n",
    "    def get_frame(self,t):\n",
    "        b = np.zeros((self.grid_size,self.grid_size,3))+128\n",
    "        b[self.board>0,0] = 256\n",
    "        b[self.board < 0, 2] = 256\n",
    "        b[self.x,self.y,:]=256\n",
    "        b[-2:,:,:]=0\n",
    "        b[:,-2:,:]=0\n",
    "        b[:2,:,:]=0\n",
    "        b[:,:2,:]=0\n",
    "        \n",
    "        b =  cv2.resize(b, None, fx=self.scale, fy=self.scale, interpolation=cv2.INTER_NEAREST)\n",
    "\n",
    "        self.to_draw[t,:,:,:]=b\n",
    "\n",
    "    def act(self, action, train=True):\n",
    "        \"\"\"This function returns the new state, reward and decides if the\n",
    "        game ends.\"\"\"\n",
    "\n",
    "        self.get_frame(int(self.t))\n",
    "\n",
    "        self.position = np.zeros((self.grid_size, self.grid_size))\n",
    "\n",
    "        self.position[0:2,:]= -1\n",
    "        self.position[:,0:2] = -1\n",
    "        self.position[-2:, :] = -1\n",
    "        self.position[-2:, :] = -1\n",
    "\n",
    "        self.position[self.x, self.y] = 1\n",
    "        if action == 0:\n",
    "            if self.x == self.grid_size-3:\n",
    "                self.x = self.x-1\n",
    "            else:\n",
    "                self.x = self.x + 1\n",
    "        elif action == 1:\n",
    "            if self.x == 2:\n",
    "                self.x = self.x+1\n",
    "            else:\n",
    "                self.x = self.x-1\n",
    "        elif action == 2:\n",
    "            if self.y == self.grid_size - 3:\n",
    "                self.y = self.y - 1\n",
    "            else:\n",
    "                self.y = self.y + 1\n",
    "        elif action == 3:\n",
    "            if self.y == 2:\n",
    "                self.y = self.y + 1\n",
    "            else:\n",
    "                self.y = self.y - 1\n",
    "        else:\n",
    "            RuntimeError('Error: action not recognized')\n",
    "\n",
    "        self.t = self.t + 1\n",
    "        reward = self.board[self.x, self.y]\n",
    "        self.board[self.x, self.y] = 0\n",
    "        game_over = self.t > self.max_time\n",
    "        \n",
    "        if train:\n",
    "            reward -= self.malus_position[self.x, self.y]\n",
    "            \n",
    "        self.malus_position[self.x, self.y] = 0.1\n",
    "        \n",
    "        reward = reward + self.board[self.x, self.y]\n",
    "\n",
    "        state = np.concatenate((self.malus_position.reshape(self.grid_size, self.grid_size,1),\n",
    "                                self.board.reshape(self.grid_size, self.grid_size,1),\n",
    "                        self.position.reshape(self.grid_size, self.grid_size,1)),axis=2)\n",
    "        state = state[self.x-2:self.x+3,self.y-2:self.y+3,:]\n",
    "\n",
    "        return state, reward, game_over\n",
    "\n",
    "    def reset(self):\n",
    "        \"\"\"This function resets the game and returns the initial state\"\"\"\n",
    "\n",
    "        self.x = np.random.randint(3, self.grid_size-3, size=1)[0]\n",
    "        self.y = np.random.randint(3, self.grid_size-3, size=1)[0]\n",
    "\n",
    "\n",
    "        bonus = 0.5*np.random.binomial(1,self.temperature,size=self.grid_size**2)\n",
    "        bonus = bonus.reshape(self.grid_size,self.grid_size)\n",
    "\n",
    "        malus = -1.0*np.random.binomial(1,self.temperature,size=self.grid_size**2)\n",
    "        malus = malus.reshape(self.grid_size, self.grid_size)\n",
    "\n",
    "        self.to_draw = np.zeros((self.max_time+2, self.grid_size*self.scale, self.grid_size*self.scale, 3))\n",
    "\n",
    "\n",
    "        malus[bonus>0]=0\n",
    "        \n",
    "        self.malus_position = np.zeros((self.grid_size, self.grid_size))\n",
    "        \n",
    "        self.board = bonus + malus\n",
    "\n",
    "        self.position = np.zeros((self.grid_size, self.grid_size))\n",
    "        self.position[0:2,:]= -1\n",
    "        self.position[:,0:2] = -1\n",
    "        self.position[-2:, :] = -1\n",
    "        self.position[-2:, :] = -1\n",
    "        self.board[self.x,self.y] = 0\n",
    "        self.t = 0\n",
    "\n",
    "        state = np.concatenate((self.malus_position.reshape(self.grid_size, self.grid_size,1),\n",
    "                                self.board.reshape(self.grid_size, self.grid_size,1),\n",
    "                                self.position.reshape(self.grid_size, self.grid_size,1)),axis=2)\n",
    "        state = state[self.x - 2:self.x + 3, self.y - 2:self.y + 3, :]\n",
    "        return state       "
   ]
  },
  {
   "cell_type": "code",
   "execution_count": 30,
   "metadata": {
    "colab": {
     "base_uri": "https://localhost:8080/",
     "height": 965
    },
    "colab_type": "code",
    "id": "i2O3WPtYE-Qi",
    "outputId": "717c9816-f00f-48b1-e8c3-b79717492bde"
   },
   "outputs": [
    {
     "name": "stdout",
     "output_type": "stream",
     "text": [
      "Epoch 000/040 | Loss 0.0203 | Win/lose count 8.0/25.10000000000006 (-17.10000000000006)\n",
      "Epoch 001/040 | Loss 0.0173 | Win/lose count 6.0/19.700000000000017 (-13.700000000000017)\n",
      "Epoch 002/040 | Loss 0.0048 | Win/lose count 3.5/19.300000000000004 (-15.800000000000004)\n",
      "Epoch 003/040 | Loss 0.0096 | Win/lose count 15.0/16.299999999999972 (-1.2999999999999723)\n",
      "Epoch 004/040 | Loss 0.0204 | Win/lose count 11.0/16.399999999999963 (-5.399999999999963)\n",
      "Epoch 005/040 | Loss 0.0080 | Win/lose count 9.0/17.69999999999998 (-8.699999999999982)\n",
      "Epoch 006/040 | Loss 0.0052 | Win/lose count 10.0/15.399999999999965 (-5.399999999999965)\n",
      "Epoch 007/040 | Loss 0.0089 | Win/lose count 16.5/13.499999999999968 (3.000000000000032)\n",
      "Epoch 008/040 | Loss 0.0087 | Win/lose count 13.5/15.499999999999964 (-1.9999999999999645)\n",
      "Epoch 009/040 | Loss 0.0190 | Win/lose count 11.0/17.299999999999983 (-6.299999999999983)\n",
      "Epoch 010/040 | Loss 0.0134 | Win/lose count 11.0/15.099999999999962 (-4.099999999999962)\n",
      "Epoch 011/040 | Loss 0.0124 | Win/lose count 12.5/15.799999999999963 (-3.2999999999999634)\n",
      "Epoch 012/040 | Loss 0.0137 | Win/lose count 15.5/12.89999999999997 (2.60000000000003)\n",
      "Epoch 013/040 | Loss 0.0151 | Win/lose count 16.5/14.499999999999964 (2.0000000000000355)\n",
      "Epoch 014/040 | Loss 0.0127 | Win/lose count 17.5/13.499999999999968 (4.000000000000032)\n",
      "Epoch 015/040 | Loss 0.0182 | Win/lose count 18.0/14.899999999999965 (3.100000000000035)\n",
      "Epoch 016/040 | Loss 0.0215 | Win/lose count 18.5/14.999999999999963 (3.5000000000000373)\n",
      "Epoch 017/040 | Loss 0.0169 | Win/lose count 25.5/15.199999999999976 (10.300000000000024)\n",
      "Epoch 018/040 | Loss 0.0198 | Win/lose count 20.0/17.59999999999999 (2.4000000000000092)\n",
      "Epoch 019/040 | Loss 0.0138 | Win/lose count 20.5/10.799999999999978 (9.700000000000022)\n",
      "Epoch 020/040 | Loss 0.0190 | Win/lose count 19.0/12.599999999999975 (6.400000000000025)\n",
      "Epoch 021/040 | Loss 0.0172 | Win/lose count 14.0/12.399999999999972 (1.600000000000028)\n",
      "Epoch 022/040 | Loss 0.0157 | Win/lose count 19.0/16.599999999999973 (2.400000000000027)\n",
      "Epoch 023/040 | Loss 0.0199 | Win/lose count 22.5/15.599999999999964 (6.900000000000036)\n",
      "Epoch 024/040 | Loss 0.0129 | Win/lose count 20.0/15.69999999999996 (4.30000000000004)\n",
      "Epoch 025/040 | Loss 0.0501 | Win/lose count 12.5/17.799999999999983 (-5.299999999999983)\n",
      "Epoch 026/040 | Loss 0.0169 | Win/lose count 22.5/14.099999999999977 (8.400000000000023)\n",
      "Epoch 027/040 | Loss 0.0126 | Win/lose count 18.0/14.79999999999997 (3.2000000000000295)\n",
      "Epoch 028/040 | Loss 0.0076 | Win/lose count 21.5/12.399999999999972 (9.100000000000028)\n",
      "Epoch 029/040 | Loss 0.0241 | Win/lose count 17.5/12.09999999999998 (5.40000000000002)\n",
      "Epoch 030/040 | Loss 0.0132 | Win/lose count 21.0/14.799999999999969 (6.200000000000031)\n",
      "Epoch 031/040 | Loss 0.0191 | Win/lose count 23.0/10.799999999999978 (12.200000000000022)\n",
      "Epoch 032/040 | Loss 0.0118 | Win/lose count 8.5/18.899999999999988 (-10.399999999999988)\n",
      "Epoch 033/040 | Loss 0.0195 | Win/lose count 25.0/13.89999999999997 (11.10000000000003)\n",
      "Epoch 034/040 | Loss 0.0113 | Win/lose count 21.0/13.69999999999997 (7.300000000000029)\n",
      "Epoch 035/040 | Loss 0.0310 | Win/lose count 12.5/14.999999999999963 (-2.4999999999999627)\n",
      "Epoch 036/040 | Loss 0.0119 | Win/lose count 19.5/11.19999999999998 (8.30000000000002)\n",
      "Epoch 037/040 | Loss 0.0122 | Win/lose count 15.5/17.199999999999985 (-1.699999999999985)\n",
      "Epoch 038/040 | Loss 0.0163 | Win/lose count 15.0/16.99999999999998 (-1.9999999999999787)\n",
      "Epoch 039/040 | Loss 0.0293 | Win/lose count 20.0/15.899999999999979 (4.100000000000021)\n"
     ]
    },
    {
     "data": {
      "text/html": [
       "<video alt=\"test\" controls>\n",
       "                <source src=\"data:video/mp4;base64,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\" type=\"video/mp4\" />\n",
       "             </video>"
      ],
      "text/plain": [
       "<IPython.core.display.HTML object>"
      ]
     },
     "execution_count": 30,
     "metadata": {
      "tags": []
     },
     "output_type": "execute_result"
    }
   ],
   "source": [
    "# Training\n",
    "env = EnvironmentExploring(grid_size=size, max_time=T, temperature=0.3)\n",
    "agent = DQN_CNN(size, lr=.1, epsilon = 0.1, memory_size=2000, batch_size = 32,n_state=3)\n",
    "train_explore(agent, env, epochs_train, prefix='cnn_train_explore')\n",
    "HTML(display_videos('cnn_train_explore10.mp4'))"
   ]
  },
  {
   "cell_type": "code",
   "execution_count": 31,
   "metadata": {
    "colab": {
     "base_uri": "https://localhost:8080/",
     "height": 814
    },
    "colab_type": "code",
    "id": "p80bzx0uE-Ql",
    "outputId": "ef4f866b-f8af-415d-c856-c7c0db75442d"
   },
   "outputs": [
    {
     "name": "stdout",
     "output_type": "stream",
     "text": [
      "Win/lose count 10.5/18.19999999999999. Average score (-7.699999999999989)\n",
      "Win/lose count 23.5/14.099999999999973. Average score (0.8500000000000192)\n",
      "Win/lose count 8.5/16.599999999999966. Average score (-2.1333333333333093)\n",
      "Win/lose count 13.0/17.69999999999998. Average score (-2.7749999999999773)\n",
      "Win/lose count 22.5/13.89999999999997. Average score (-0.49999999999997585)\n",
      "Win/lose count 12.5/17.199999999999974. Average score (-1.1999999999999755)\n",
      "Win/lose count 26.0/14.699999999999969. Average score (0.5857142857143111)\n",
      "Win/lose count 11.0/16.89999999999997. Average score (-0.2249999999999741)\n",
      "Win/lose count 11.0/17.899999999999984. Average score (-0.9666666666666419)\n",
      "Win/lose count 5.5/17.899999999999984. Average score (-2.109999999999976)\n",
      "Win/lose count 12.0/15.79999999999996. Average score (-2.2636363636363384)\n",
      "Win/lose count 12.5/15.59999999999996. Average score (-2.333333333333307)\n",
      "Win/lose count 10.0/15.89999999999996. Average score (-2.6076923076922798)\n",
      "Win/lose count 12.0/15.199999999999962. Average score (-2.649999999999971)\n",
      "Win/lose count 11.5/16.19999999999996. Average score (-2.7866666666666373)\n",
      "Win/lose count 20.5/12.399999999999974. Average score (-2.106249999999971)\n",
      "Win/lose count 5.5/17.899999999999984. Average score (-2.7117647058823247)\n",
      "Win/lose count 6.0/17.799999999999983. Average score (-3.216666666666639)\n",
      "Win/lose count 9.5/16.09999999999996. Average score (-3.394736842105235)\n",
      "Win/lose count 17.0/17.299999999999976. Average score (-3.2399999999999722)\n",
      "Win/lose count 8.0/17.59999999999998. Average score (-3.542857142857115)\n",
      "Win/lose count 14.0/17.59999999999998. Average score (-3.5454545454545183)\n",
      "Win/lose count 4.5/19.60000000000001. Average score (-4.047826086956496)\n",
      "Win/lose count 8.5/17.799999999999983. Average score (-4.266666666666642)\n",
      "Win/lose count 23.0/14.399999999999967. Average score (-3.7519999999999745)\n",
      "Win/lose count 11.0/17.099999999999973. Average score (-3.8423076923076662)\n",
      "Win/lose count 13.0/15.499999999999961. Average score (-3.792592592592566)\n",
      "Win/lose count 1.5/19.500000000000007. Average score (-4.299999999999975)\n",
      "Win/lose count 21.0/17.89999999999999. Average score (-4.044827586206872)\n",
      "Win/lose count 5.0/18.099999999999987. Average score (-4.346666666666642)\n",
      "Final score: -4.346666666666642\n"
     ]
    },
    {
     "data": {
      "text/html": [
       "<video alt=\"test\" controls>\n",
       "                <source src=\"data:video/mp4;base64,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\" type=\"video/mp4\" />\n",
       "             </video>"
      ],
      "text/plain": [
       "<IPython.core.display.HTML object>"
      ]
     },
     "execution_count": 31,
     "metadata": {
      "tags": []
     },
     "output_type": "execute_result"
    }
   ],
   "source": [
    "# Evaluation\n",
    "test(agent,env,epochs_test,prefix='cnn_test_explore')\n",
    "HTML(display_videos('cnn_test_explore10.mp4'))"
   ]
  },
  {
   "cell_type": "markdown",
   "metadata": {
    "colab_type": "text",
    "id": "S7CQciq8E-Qo"
   },
   "source": [
    "***\n",
    "***\n",
    "__BONUS question__ Use the expert DQN from the previous question to generate some winning games. Train a model that mimicks its behavior. Compare the performances."
   ]
  },
  {
   "cell_type": "markdown",
   "metadata": {
    "colab_type": "text",
    "id": "qmkL9zeiE-Qp"
   },
   "source": []
  },
  {
   "cell_type": "markdown",
   "metadata": {
    "colab_type": "text",
    "id": "xOvYClhqE-Qq"
   },
   "source": [
    "***"
   ]
  }
 ],
 "metadata": {
  "colab": {
   "collapsed_sections": [],
   "name": "DQN_project_MVA.ipynb",
   "provenance": []
  },
  "kernelspec": {
   "display_name": "Python 3",
   "language": "python",
   "name": "python3"
  },
  "language_info": {
   "codemirror_mode": {
    "name": "ipython",
    "version": 3
   },
   "file_extension": ".py",
   "mimetype": "text/x-python",
   "name": "python",
   "nbconvert_exporter": "python",
   "pygments_lexer": "ipython3",
   "version": "3.7.4"
  }
 },
 "nbformat": 4,
 "nbformat_minor": 1
}
